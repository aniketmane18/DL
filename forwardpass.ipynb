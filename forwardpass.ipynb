{
 "cells": [
  {
   "cell_type": "code",
   "execution_count": 1,
   "id": "b930f432-1e30-47a9-b055-26bd8660e5a1",
   "metadata": {},
   "outputs": [
    {
     "name": "stderr",
     "output_type": "stream",
     "text": [
      "C:\\Users\\VINAYAK\\anaconda3\\Lib\\site-packages\\keras\\src\\layers\\core\\dense.py:87: UserWarning: Do not pass an `input_shape`/`input_dim` argument to a layer. When using Sequential models, prefer using an `Input(shape)` object as the first layer in the model instead.\n",
      "  super().__init__(activity_regularizer=activity_regularizer, **kwargs)\n"
     ]
    },
    {
     "name": "stdout",
     "output_type": "stream",
     "text": [
      "\u001b[1m1/1\u001b[0m \u001b[32m━━━━━━━━━━━━━━━━━━━━\u001b[0m\u001b[37m\u001b[0m \u001b[1m0s\u001b[0m 157ms/step\n",
      "Output with Hidden Layer: [[0.508176]]\n"
     ]
    }
   ],
   "source": [
    "import numpy as np\n",
    "import tensorflow as tf\n",
    "from tensorflow.keras import layers, models\n",
    "\n",
    "# Create a simple model with one hidden layer\n",
    "model_with_hidden = models.Sequential()\n",
    "\n",
    "# Input layer with 3 units, hidden layer with 4 units, and output layer with 1 unit\n",
    "model_with_hidden.add(layers.Dense(4, input_dim=3, activation='relu'))  # Hidden layer\n",
    "model_with_hidden.add(layers.Dense(1, activation='sigmoid'))  # Output layer\n",
    "\n",
    "# Initialize weights manually (optional, for the sake of understanding matrix multiplication)\n",
    "input_data = np.array([[0.5, 0.2, 0.1]])\n",
    "\n",
    "# Forward pass (matrix multiplication of input data and weights of the layers)\n",
    "model_with_hidden.compile(optimizer='adam', loss='binary_crossentropy', metrics=['accuracy'])\n",
    "output_with_hidden = model_with_hidden.predict(input_data)\n",
    "\n",
    "print(\"Output with Hidden Layer:\", output_with_hidden)\n"
   ]
  },
  {
   "cell_type": "code",
   "execution_count": 3,
   "id": "8aed6a97-d109-4a93-8074-c4f8e9b8501b",
   "metadata": {},
   "outputs": [
    {
     "name": "stdout",
     "output_type": "stream",
     "text": [
      "\u001b[1m1/1\u001b[0m \u001b[32m━━━━━━━━━━━━━━━━━━━━\u001b[0m\u001b[37m\u001b[0m \u001b[1m0s\u001b[0m 251ms/step\n",
      "Output without Hidden Layer: [[0.49865046]]\n"
     ]
    }
   ],
   "source": [
    "import numpy as np\n",
    "import tensorflow as tf\n",
    "from tensorflow.keras import layers, models\n",
    "\n",
    "# Create a simple model without a hidden layer\n",
    "model_without_hidden = models.Sequential()\n",
    "\n",
    "# Input layer with 3 units, directly connected to output layer with 1 unit\n",
    "model_without_hidden.add(layers.Dense(1, input_dim=3, activation='sigmoid'))  # Output layer\n",
    "\n",
    "# Initialize weights manually (optional, for the sake of understanding matrix multiplication)\n",
    "input_data = np.array([[0.5, 0.2, 0.1]])\n",
    "\n",
    "# Forward pass (matrix multiplication of input data and weights of the output layer)\n",
    "model_without_hidden.compile(optimizer='adam', loss='binary_crossentropy', metrics=['accuracy'])\n",
    "output_without_hidden = model_without_hidden.predict(input_data)\n",
    "\n",
    "print(\"Output without Hidden Layer:\", output_without_hidden)\n"
   ]
  },
  {
   "cell_type": "code",
   "execution_count": null,
   "id": "eba0a695-4fa4-4734-b663-9ffb3107adac",
   "metadata": {},
   "outputs": [],
   "source": []
  }
 ],
 "metadata": {
  "kernelspec": {
   "display_name": "Python [conda env:base] *",
   "language": "python",
   "name": "conda-base-py"
  },
  "language_info": {
   "codemirror_mode": {
    "name": "ipython",
    "version": 3
   },
   "file_extension": ".py",
   "mimetype": "text/x-python",
   "name": "python",
   "nbconvert_exporter": "python",
   "pygments_lexer": "ipython3",
   "version": "3.12.7"
  }
 },
 "nbformat": 4,
 "nbformat_minor": 5
}
