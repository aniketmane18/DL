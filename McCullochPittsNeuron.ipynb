{
 "cells": [
  {
   "cell_type": "code",
   "execution_count": 5,
   "id": "1fbb9e81-3d4f-4702-b737-3029fa309ca6",
   "metadata": {},
   "outputs": [
    {
     "name": "stdout",
     "output_type": "stream",
     "text": [
      "Output for inputs [0, 0]: 0\n"
     ]
    }
   ],
   "source": [
    "import numpy as np\n",
    "\n",
    "class McCullochPittsNeuron:\n",
    "    def __init__(self, weights, threshold):\n",
    "        self.weights = np.array(weights)  # Weights for the inputs\n",
    "        self.threshold = threshold  # The threshold value\n",
    "\n",
    "    def activate(self, inputs):\n",
    "        # Calculate the weighted sum of inputs\n",
    "        weighted_sum = np.dot(inputs, self.weights)\n",
    "        \n",
    "        # Apply the threshold function (Heaviside step function)\n",
    "        if weighted_sum >= self.threshold:\n",
    "            return 1\n",
    "        else:\n",
    "            return 0\n",
    "\n",
    "# Example usage\n",
    "# Define the weights and threshold\n",
    "weights = [1, 1]  # Example weights for two inputs\n",
    "threshold = 1      # Example threshold\n",
    "\n",
    "# Create the neuron\n",
    "neuron = McCullochPittsNeuron(weights, threshold)\n",
    "\n",
    "# Test inputs (can be any combination of 0 or 1)\n",
    "inputs = [0, 0]  # Example inputs\n",
    "\n",
    "# Get the output\n",
    "output = neuron.activate(inputs)\n",
    "print(f\"Output for inputs {inputs}: {output}\")\n"
   ]
  },
  {
   "cell_type": "code",
   "execution_count": null,
   "id": "5eeaf780-fb31-478c-ab17-2ee2150a3b5c",
   "metadata": {},
   "outputs": [],
   "source": []
  }
 ],
 "metadata": {
  "kernelspec": {
   "display_name": "Python [conda env:base] *",
   "language": "python",
   "name": "conda-base-py"
  },
  "language_info": {
   "codemirror_mode": {
    "name": "ipython",
    "version": 3
   },
   "file_extension": ".py",
   "mimetype": "text/x-python",
   "name": "python",
   "nbconvert_exporter": "python",
   "pygments_lexer": "ipython3",
   "version": "3.12.7"
  }
 },
 "nbformat": 4,
 "nbformat_minor": 5
}
